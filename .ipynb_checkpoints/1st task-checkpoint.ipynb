{
 "cells": [
  {
   "cell_type": "code",
   "execution_count": 282,
   "metadata": {
    "scrolled": true
   },
   "outputs": [
    {
     "name": "stdout",
     "output_type": "stream",
     "text": [
      "1\n",
      "2\n",
      "5\n"
     ]
    }
   ],
   "source": [
    "def generate_two_bit(l):\n",
    "    generated_list = []\n",
    "    for i in range(l):\n",
    "        for j in range(i+1, l):\n",
    "            generated_number = '0'*i + '1' + '0'*(j-i-1) + '1' + '0'*(l-j-1)\n",
    "            \n",
    "            generated_list.append(generated_number)\n",
    "    \n",
    "    return generated_list\n",
    "\n",
    "\n",
    "number_of_input = int(input())\n",
    "input_numbers = []\n",
    "for _ in range(number_of_input):\n",
    "    number = int(input())\n",
    "    input_numbers.append(number)\n",
    "\n",
    "\n",
    "max_number = max(input_numbers)\n",
    "optimal_length = int((-1 + (1 + 8*max_number)**0.5)/2) + 2\n",
    "\n",
    "a = generate_two_bit(optimal_length)\n",
    "\n",
    "\n",
    "to_10_base = [int(x, 2) for x in a]\n",
    "sorted_two_bits_numbers = sorted(to_10_base)\n",
    "\n",
    "for i in input_numbers:\n",
    "    print(sorted_two_bits_numbers[i-1]%35184372089371)"
   ]
  },
  {
   "cell_type": "code",
   "execution_count": null,
   "metadata": {},
   "outputs": [],
   "source": []
  }
 ],
 "metadata": {
  "kernelspec": {
   "display_name": "Python 3",
   "language": "python",
   "name": "python3"
  },
  "language_info": {
   "codemirror_mode": {
    "name": "ipython",
    "version": 3
   },
   "file_extension": ".py",
   "mimetype": "text/x-python",
   "name": "python",
   "nbconvert_exporter": "python",
   "pygments_lexer": "ipython3",
   "version": "3.7.7"
  }
 },
 "nbformat": 4,
 "nbformat_minor": 4
}
