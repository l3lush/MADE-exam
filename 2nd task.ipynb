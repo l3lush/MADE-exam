{
 "cells": [
  {
   "cell_type": "code",
   "execution_count": 63,
   "metadata": {
    "scrolled": false
   },
   "outputs": [
    {
     "name": "stdout",
     "output_type": "stream",
     "text": [
      "1\n",
      "9\n",
      "1 7\n",
      "4 7\n",
      "6 7\n",
      "1 5\n",
      "4 5\n",
      "6 5\n",
      "3 3\n",
      "1 1\n",
      "4 1\n",
      "5\n"
     ]
    }
   ],
   "source": [
    "def create_names(num):\n",
    "    return [str(x) for x in range(num)]\n",
    "\n",
    "def recursive_dict(dic):\n",
    "    norm = []\n",
    "    for i in range(len(dic)):\n",
    "        for j in range(len(dic)):\n",
    "            for k in range(len(dic)):\n",
    "                for l in range(len(dic)):\n",
    "                    if len(set((i, j, k, l)))==4:\n",
    "                        \"\"\"\n",
    "                        a, b, c, d = set(dic[str(i)]), set(dic[str(j)]), set(dic[str(k)]), set(dic[str(l)])\n",
    "                        set_of_all = a.union(b).union(c).union(d)\n",
    "                        if len(set_of_all) <=4:\n",
    "                        \"\"\"\n",
    "                            norm.append((str(i), str(j), str(k), str(l)))\n",
    "    return norm\n",
    "\n",
    "number_of_sets = int(input())\n",
    "sets = []\n",
    "for _ in range(number_of_sets):\n",
    "    k = int(input())\n",
    "    d = {}\n",
    "    names = create_names(k)\n",
    "    for name in names:\n",
    "        x, y = input().split()\n",
    "        d[name] = (x, y)\n",
    "    sets.append(d)\n",
    "    \n",
    "for single_set in sets:\n",
    "    uniq = []\n",
    "    all_val = recursive_dict(single_set)\n",
    "    for arr in all_val:\n",
    "        first, second = single_set[arr[0]], single_set[arr[1]]\n",
    "        third, forth = single_set[arr[2]], single_set[arr[3]]\n",
    "        if first[0] == second[0] or first[1] == second[1]:\n",
    "            if third[0] == second[0] or third[1] == second[1]:\n",
    "                if third[0] == forth[0] or third[1] == forth[1]:\n",
    "                    if first[0] == forth[0] or first[1] == forth[1]:\n",
    "                        uniq.append(arr)\n",
    "    \n",
    "    really_unique = []\n",
    "    count = 0\n",
    "    for i in range(len(uniq)):\n",
    "        if set(uniq[i]) not in really_unique:\n",
    "            really_unique.append(set(uniq[i]))\n",
    "            count += 1\n",
    "    print(count)"
   ]
  },
  {
   "cell_type": "code",
   "execution_count": 202,
   "metadata": {},
   "outputs": [],
   "source": [
    "a = {\n",
    "    '0': (1, 7),\n",
    "    '1': (4, 7),\n",
    "    '2': (6, 7),\n",
    "    '3': (1, 5),\n",
    "    '4': (4, 5),\n",
    "    '5': (6, 5),\n",
    "    '6': (3, 3),\n",
    "    '7': (1, 1),\n",
    "    '8': (4, 1)}\n",
    "\n",
    "for i in range(9):\n",
    "    b, c = a[str(i)]\n",
    "    a[str(i)] = (str(b), str(c))"
   ]
  },
  {
   "cell_type": "code",
   "execution_count": 94,
   "metadata": {},
   "outputs": [
    {
     "data": {
      "text/plain": [
       "{'0': ('1', '7'),\n",
       " '1': ('4', '7'),\n",
       " '2': ('6', '7'),\n",
       " '3': ('1', '5'),\n",
       " '4': ('4', '5'),\n",
       " '5': ('6', '5'),\n",
       " '6': ('3', '3'),\n",
       " '7': ('1', '1'),\n",
       " '8': ('4', '1')}"
      ]
     },
     "execution_count": 94,
     "metadata": {},
     "output_type": "execute_result"
    }
   ],
   "source": [
    "a"
   ]
  },
  {
   "cell_type": "code",
   "execution_count": 189,
   "metadata": {},
   "outputs": [],
   "source": [
    "from random import randint\n",
    "a = {}\n",
    "for i in range(10):\n",
    "    b = str(randint(0,5))\n",
    "    c = str(randint(0,5))\n",
    "    a[str(i)] = (b, c)"
   ]
  },
  {
   "cell_type": "code",
   "execution_count": 133,
   "metadata": {},
   "outputs": [],
   "source": [
    "import random"
   ]
  },
  {
   "cell_type": "code",
   "execution_count": 203,
   "metadata": {},
   "outputs": [
    {
     "name": "stdout",
     "output_type": "stream",
     "text": [
      "Wall time: 0 ns\n"
     ]
    }
   ],
   "source": [
    "%%time\n",
    "def recursive_dict(dic):\n",
    "    good_indices = {}\n",
    "    norm = []\n",
    "    for i in range(len(dic)):\n",
    "        list_of_good = []\n",
    "        for j in range(i+1, len(dic)):\n",
    "            if len(set(dic[str(i)]) - set(dic[str(j)]))==1:\n",
    "                list_of_good.append(j)\n",
    "        good_indices[i] = list_of_good\n",
    "    for i in range(len(dic)):\n",
    "        for j in good_indices[i]:\n",
    "            for k in good_indices[j]:\n",
    "                for l in good_indices[k]:\n",
    "                    norm.append((str(i), str(j), str(k), str(l)))\n",
    "    \n",
    "    return norm\n",
    "\n",
    "\n",
    "\n",
    "cc = recursive_dict(a)"
   ]
  },
  {
   "cell_type": "code",
   "execution_count": 196,
   "metadata": {},
   "outputs": [
    {
     "name": "stdout",
     "output_type": "stream",
     "text": [
      "Wall time: 58 ms\n"
     ]
    }
   ],
   "source": [
    "%%time\n",
    "def recursive_dict(dic):\n",
    "    norm = []\n",
    "    for i in range(len(dic)):\n",
    "        for j in range(len(dic)):\n",
    "            for k in range(len(dic)):\n",
    "                for l in range(len(dic)):\n",
    "                    if len(set((i, j, k, l)))==4:\n",
    "                        a, b, c, d = set(dic[str(i)]), set(dic[str(j)]), set(dic[str(k)]), set(dic[str(l)])\n",
    "                        set_of_all = a.union(b).union(c).union(d)\n",
    "                        if len(set_of_all) <=4:\n",
    "                            norm.append((str(i), str(j), str(k), str(l)))\n",
    "    return norm\n",
    "\n",
    "\n",
    "\n",
    "cc = recursive_dict(a)"
   ]
  },
  {
   "cell_type": "code",
   "execution_count": 154,
   "metadata": {},
   "outputs": [
    {
     "data": {
      "text/plain": [
       "0.021969851293542474"
      ]
     },
     "execution_count": 154,
     "metadata": {},
     "output_type": "execute_result"
    }
   ],
   "source": [
    "2157/len(cc)"
   ]
  },
  {
   "cell_type": "code",
   "execution_count": 82,
   "metadata": {},
   "outputs": [
    {
     "data": {
      "text/plain": [
       "set()"
      ]
     },
     "execution_count": 82,
     "metadata": {},
     "output_type": "execute_result"
    }
   ],
   "source": [
    "set(('1', '7')) - set(('1', '7'))"
   ]
  },
  {
   "cell_type": "code",
   "execution_count": 149,
   "metadata": {},
   "outputs": [
    {
     "data": {
      "text/plain": [
       "('0', '34', '53', '562')"
      ]
     },
     "execution_count": 149,
     "metadata": {},
     "output_type": "execute_result"
    }
   ],
   "source": [
    "arr"
   ]
  },
  {
   "cell_type": "code",
   "execution_count": 204,
   "metadata": {},
   "outputs": [],
   "source": [
    "uniq = []\n",
    "for arr in cc:\n",
    "    first, second = a[arr[0]], a[arr[1]]\n",
    "    third, forth = a[arr[2]], a[arr[3]]\n",
    "    if first[0] == second[0] or first[1] == second[1]:\n",
    "        if third[0] == second[0] or third[1] == second[1]:\n",
    "            if third[0] == forth[0] or third[1] == forth[1]:\n",
    "                if first[0] == forth[0] or first[1] == forth[1]:\n",
    "                    uniq.append(arr)"
   ]
  },
  {
   "cell_type": "code",
   "execution_count": 205,
   "metadata": {},
   "outputs": [
    {
     "name": "stdout",
     "output_type": "stream",
     "text": [
      "0\n"
     ]
    }
   ],
   "source": [
    "really_unique = []\n",
    "count = 0\n",
    "for i in range(len(uniq)):\n",
    "    if set(uniq[i]) not in really_unique:\n",
    "        really_unique.append(set(uniq[i]))\n",
    "        count += 1\n",
    "print(count)"
   ]
  },
  {
   "cell_type": "code",
   "execution_count": null,
   "metadata": {},
   "outputs": [],
   "source": []
  }
 ],
 "metadata": {
  "kernelspec": {
   "display_name": "Python 3",
   "language": "python",
   "name": "python3"
  },
  "language_info": {
   "codemirror_mode": {
    "name": "ipython",
    "version": 3
   },
   "file_extension": ".py",
   "mimetype": "text/x-python",
   "name": "python",
   "nbconvert_exporter": "python",
   "pygments_lexer": "ipython3",
   "version": "3.7.7"
  }
 },
 "nbformat": 4,
 "nbformat_minor": 4
}
